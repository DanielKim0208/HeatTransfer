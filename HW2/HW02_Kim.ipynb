{
 "cells": [
  {
   "cell_type": "markdown",
   "metadata": {},
   "source": [
    "# Homework 2 - Fish Tank - Daniel Kim #\n",
    " "
   ]
  },
  {
   "cell_type": "code",
   "execution_count": 15,
   "metadata": {},
   "outputs": [],
   "source": [
    "#importing libraries\n",
    "import numpy as np \n",
    "import matplotlib.pyplot as plt\n",
    "import seaborn as sns\n",
    "\n",
    "# setting given constants in the question \n",
    "\n",
    "#Input parameters\n",
    "Wedot = 100 #w \n",
    "WGlass = 10 #lb \n",
    "\n",
    "#Geometry\n",
    "L = 0.505 #m\n",
    "W = 0.254 #m\n",
    "H = 0.3048 #m \n",
    "\n",
    "#Fixed temperatures \n",
    "\n",
    "T_initial = 15 #C\n",
    "T_inf = 21 #C\n",
    "T_set = 27 #C\n",
    "\n",
    "#Thermal properties\n",
    "#https://www.makeitfrom.com/material-properties/Toughened-Tempered-Soda-Lime-Glass\n",
    "rho_glass = 2520 #kg/m^3\n",
    "c_glass = 720 #J/kg/K\n",
    "rho_H2O = 990 #kg/m^3\n",
    "c_H2O = 4200 #J/kg/K\n",
    "\n",
    "#Heat Transfer Coefficients\n",
    "U_surface = 13 #W/m^2/K\n",
    "U_side = 8.50 #W/m^2/K\n",
    "U_floor = 3 #W/m^2/K"
   ]
  },
  {
   "cell_type": "markdown",
   "metadata": {},
   "source": [
    "#### Derived parameters, capitances, and resistances ####\n",
    "\n",
    "Thermal resistance formula is as follows : \n",
    "$ R = \\frac{L}{KA} = \\frac{1}{UA}$ where <br>\n",
    "L = Material conductivity($Wm^{-1}k^{-1}$)<br>\n",
    "K = Material thickness($m$)<br>\n",
    "U = HT coefficient ($Wm^{-2}k^{-1}$)<br>\n",
    "A = Material cross-sectional area($m^2$)<br>"
   ]
  },
  {
   "cell_type": "code",
   "execution_count": 16,
   "metadata": {},
   "outputs": [],
   "source": [
    "#Parameters\n",
    "M_glass = WGlass * 0.453592 #kg\n",
    "A_glass = 2 * (W * H) + 2 * (L * H) +  (L * H) #m^2 (#2 x side(W*H) + 2 x front(L*H) + 1 bottom(W*H))\n",
    "t_glass = M_glass / (rho_glass * A_glass) #m \n",
    "M_H2O = L * W * H * rho_H2O #kg\n",
    "Asurf = L * W #m^2\n",
    "Afloor = Asurf #m^2\n",
    "A_side = 2 * H * L + 2 * H * W #m^2\n",
    "\n",
    "#Capitances\n",
    "C_glass = M_glass * c_glass #J/K\n",
    "C_H2O = M_H2O * c_H2O #J/K\n",
    "C_lump = C_glass + C_H2O #J/K"
   ]
  },
  {
   "cell_type": "markdown",
   "metadata": {},
   "source": [
    "#### Modelling the system as thermal circuit #### \n",
    "<img src=\"Slide4.jpg\" alt=\"Overview of a thermal circuit model\" width=\"500\"/>\n",
    "\n"
   ]
  },
  {
   "cell_type": "code",
   "execution_count": 18,
   "metadata": {},
   "outputs": [
    {
     "data": {
      "text/plain": [
       "'Time constant tau(S):'"
      ]
     },
     "metadata": {},
     "output_type": "display_data"
    },
    {
     "data": {
      "text/plain": [
       "27706.874925064585"
      ]
     },
     "metadata": {},
     "output_type": "display_data"
    },
    {
     "data": {
      "text/plain": [
       "'Steady state temperature:'"
      ]
     },
     "metadata": {},
     "output_type": "display_data"
    },
    {
     "data": {
      "text/plain": [
       "37.70800673078709"
      ]
     },
     "metadata": {},
     "output_type": "display_data"
    },
    {
     "data": {
      "text/plain": [
       "'Dimensionless temperature of the target :'"
      ]
     },
     "metadata": {},
     "output_type": "display_data"
    },
    {
     "data": {
      "text/plain": [
       "0.4715520326259801"
      ]
     },
     "metadata": {},
     "output_type": "display_data"
    },
    {
     "name": "stdout",
     "output_type": "stream",
     "text": [
      "Variable                        Type         Data/Info\n",
      "------------------------------------------------------\n",
      "A_glass                         float        0.6166104000000001\n",
      "A_side                          float        0.46268640000000005\n",
      "Afloor                          float        0.12827\n",
      "Asurf                           float        0.12827\n",
      "C_H2O                           float        162564.061968\n",
      "C_glass                         float        3265.8624\n",
      "C_lump                          float        165829.924368\n",
      "H                               float        0.3048\n",
      "L                               float        0.505\n",
      "M_H2O                           float        38.70572904\n",
      "M_glass                         float        4.53592\n",
      "R_equiv                         float        0.16708006730787092\n",
      "R_floor                         float        2.5986850653569293\n",
      "R_side                          float        0.2542695415804947\n",
      "R_surface                       float        0.5996965535439067\n",
      "T_inf                           int          21\n",
      "T_initial                       int          15\n",
      "T_set                           int          27\n",
      "T_ss                            float        37.70800673078709\n",
      "U_floor                         int          3\n",
      "U_side                          float        8.5\n",
      "U_surface                       int          13\n",
      "W                               float        0.254\n",
      "WGlass                          int          10\n",
      "We_reset                        float        0.6357285067873303\n",
      "Wedot                           int          100\n",
      "c_H2O                           int          4200\n",
      "c_glass                         int          720\n",
      "datetime                        module       <module 'datetime' from '<...>on311\\\\Lib\\\\datetime.py'>\n",
      "np                              module       <module 'numpy' from 'c:\\<...>ges\\\\numpy\\\\__init__.py'>\n",
      "plt                             module       <module 'matplotlib.pyplo<...>\\\\matplotlib\\\\pyplot.py'>\n",
      "rho_H2O                         int          990\n",
      "rho_glass                       int          2520\n",
      "sns                             module       <module 'seaborn' from 'c<...>s\\\\seaborn\\\\__init__.py'>\n",
      "t_glass                         float        0.002919133790101908\n",
      "tau                             float        27706.874925064585\n",
      "tau_hour                        float        7.696354145851274\n",
      "theta_target                    float        0.4715520326259801\n",
      "time_to_target                  float64      19477.38588415494\n",
      "time_to_target_hours            float64      5.410384967820817\n",
      "time_to_target_hours_coherent   timedelta    5:24:37.385884\n"
     ]
    }
   ],
   "source": [
    "#Resistance \n",
    "R_surface = 1 / (Asurf * U_surface) #K/W\n",
    "R_side = 1 / (A_side * U_side) #K/W\n",
    "R_floor = 1 / (Afloor * U_floor) #K/W\n",
    "#Uitlizing the parallel resistance equation to find the total resistance\n",
    "R_equiv = 1 / (1/R_surface + 1/R_side + 1/R_floor) #K/W\n",
    "\n",
    "#time constant \n",
    "tau = C_lump * R_equiv # Tau = RC = Mc/UA\n",
    "tau_hour = tau / 3600 #s to hours\n",
    "\n",
    "#Steady state temperature \n",
    "T_ss = T_inf + (Wedot * R_equiv) #C \n",
    "\n",
    "#Target theta\n",
    "theta_target = (T_set - T_ss)/(T_initial - T_ss) #C\n",
    "\n",
    "display(\"Time constant tau(S):\",tau, \"Steady state temperature:\", T_ss, \"Dimensionless temperature of the target :\",theta_target)\n",
    "\n",
    "%whos"
   ]
  },
  {
   "cell_type": "code",
   "execution_count": 19,
   "metadata": {},
   "outputs": [
    {
     "name": "stdout",
     "output_type": "stream",
     "text": [
      "0.5996965535439067 0.2542695415804947 2.5986850653569293 0.16708006730787092\n"
     ]
    }
   ],
   "source": [
    "print(R_surface, R_side, R_floor, R_equiv)"
   ]
  },
  {
   "cell_type": "markdown",
   "metadata": {},
   "source": [
    "#### Calculating We_reset ####\n",
    "<img src=\"Slide5.jpg\" alt=\"Overview of a thermal circuit model\" width=\"500\"/>"
   ]
  },
  {
   "cell_type": "code",
   "execution_count": 20,
   "metadata": {},
   "outputs": [
    {
     "name": "stdout",
     "output_type": "stream",
     "text": [
      "Time to target in seconds is:  20827.97347995542\n",
      "Time to target in hours is:  5.785548188876506 in Hour:minutes:seconds form 5:47:07.973480\n",
      "Power required to maintain target temperature is:  35.91092640000001 W\n"
     ]
    }
   ],
   "source": [
    "# Results \n",
    "import datetime\n",
    "time_to_target = -tau * np.log(theta_target) #s\n",
    "print(\"Time to target in seconds is: \", time_to_target)\n",
    "\n",
    "time_to_target_hours = time_to_target / 3600 #hours\n",
    "time_to_target_hours_coherent = datetime.timedelta(seconds=time_to_target)\n",
    "print(\"Time to target in hours is: \", time_to_target_hours, \"in Hour:minutes:seconds form\",time_to_target_hours_coherent)\n",
    "\n",
    "We_reset = (T_set - T_inf) / R_equiv #W\n",
    "print(\"Power required to maintain target temperature is: \", We_reset, \"W\")"
   ]
  },
  {
   "cell_type": "markdown",
   "metadata": {},
   "source": [
    "#### Simulations ####"
   ]
  },
  {
   "cell_type": "code",
   "execution_count": 21,
   "metadata": {},
   "outputs": [
    {
     "data": {
      "text/html": [
       "<div>\n",
       "<style scoped>\n",
       "    .dataframe tbody tr th:only-of-type {\n",
       "        vertical-align: middle;\n",
       "    }\n",
       "\n",
       "    .dataframe tbody tr th {\n",
       "        vertical-align: top;\n",
       "    }\n",
       "\n",
       "    .dataframe thead th {\n",
       "        text-align: right;\n",
       "    }\n",
       "</style>\n",
       "<table border=\"1\" class=\"dataframe\">\n",
       "  <thead>\n",
       "    <tr style=\"text-align: right;\">\n",
       "      <th></th>\n",
       "      <th>time</th>\n",
       "      <th>Theta</th>\n",
       "      <th>T(C)</th>\n",
       "      <th>Qtop (W)</th>\n",
       "      <th>Qside (W)</th>\n",
       "      <th>Qfloor (W)</th>\n",
       "      <th>Qnet (W)</th>\n",
       "    </tr>\n",
       "  </thead>\n",
       "  <tbody>\n",
       "    <tr>\n",
       "      <th>0</th>\n",
       "      <td>0.000000</td>\n",
       "      <td>1.000000</td>\n",
       "      <td>15.000000</td>\n",
       "      <td>10.005060</td>\n",
       "      <td>23.597006</td>\n",
       "      <td>2.308860</td>\n",
       "      <td>35.910926</td>\n",
       "    </tr>\n",
       "    <tr>\n",
       "      <th>1</th>\n",
       "      <td>0.289277</td>\n",
       "      <td>0.963111</td>\n",
       "      <td>15.837669</td>\n",
       "      <td>8.608239</td>\n",
       "      <td>20.302594</td>\n",
       "      <td>1.986517</td>\n",
       "      <td>30.897350</td>\n",
       "    </tr>\n",
       "    <tr>\n",
       "      <th>2</th>\n",
       "      <td>0.578555</td>\n",
       "      <td>0.927583</td>\n",
       "      <td>16.644437</td>\n",
       "      <td>7.262945</td>\n",
       "      <td>17.129708</td>\n",
       "      <td>1.676064</td>\n",
       "      <td>26.068718</td>\n",
       "    </tr>\n",
       "    <tr>\n",
       "      <th>3</th>\n",
       "      <td>0.867832</td>\n",
       "      <td>0.893366</td>\n",
       "      <td>17.421445</td>\n",
       "      <td>5.967277</td>\n",
       "      <td>14.073866</td>\n",
       "      <td>1.377064</td>\n",
       "      <td>21.418207</td>\n",
       "    </tr>\n",
       "    <tr>\n",
       "      <th>4</th>\n",
       "      <td>1.157110</td>\n",
       "      <td>0.860411</td>\n",
       "      <td>18.169789</td>\n",
       "      <td>4.719405</td>\n",
       "      <td>11.130750</td>\n",
       "      <td>1.089093</td>\n",
       "      <td>16.939248</td>\n",
       "    </tr>\n",
       "    <tr>\n",
       "      <th>5</th>\n",
       "      <td>1.446387</td>\n",
       "      <td>0.828672</td>\n",
       "      <td>18.890529</td>\n",
       "      <td>3.517565</td>\n",
       "      <td>8.296202</td>\n",
       "      <td>0.811746</td>\n",
       "      <td>12.625512</td>\n",
       "    </tr>\n",
       "    <tr>\n",
       "      <th>6</th>\n",
       "      <td>1.735664</td>\n",
       "      <td>0.798103</td>\n",
       "      <td>19.584681</td>\n",
       "      <td>2.360059</td>\n",
       "      <td>5.566216</td>\n",
       "      <td>0.544629</td>\n",
       "      <td>8.470904</td>\n",
       "    </tr>\n",
       "    <tr>\n",
       "      <th>7</th>\n",
       "      <td>2.024942</td>\n",
       "      <td>0.768662</td>\n",
       "      <td>20.253227</td>\n",
       "      <td>1.245252</td>\n",
       "      <td>2.936936</td>\n",
       "      <td>0.287366</td>\n",
       "      <td>4.469554</td>\n",
       "    </tr>\n",
       "    <tr>\n",
       "      <th>8</th>\n",
       "      <td>2.314219</td>\n",
       "      <td>0.740307</td>\n",
       "      <td>20.897111</td>\n",
       "      <td>0.171569</td>\n",
       "      <td>0.404647</td>\n",
       "      <td>0.039593</td>\n",
       "      <td>0.615808</td>\n",
       "    </tr>\n",
       "    <tr>\n",
       "      <th>9</th>\n",
       "      <td>2.603497</td>\n",
       "      <td>0.712998</td>\n",
       "      <td>21.517243</td>\n",
       "      <td>-0.862507</td>\n",
       "      <td>-2.034230</td>\n",
       "      <td>-0.199040</td>\n",
       "      <td>-3.095777</td>\n",
       "    </tr>\n",
       "    <tr>\n",
       "      <th>10</th>\n",
       "      <td>2.892774</td>\n",
       "      <td>0.686696</td>\n",
       "      <td>22.114499</td>\n",
       "      <td>-1.858438</td>\n",
       "      <td>-4.383139</td>\n",
       "      <td>-0.428870</td>\n",
       "      <td>-6.670448</td>\n",
       "    </tr>\n",
       "    <tr>\n",
       "      <th>11</th>\n",
       "      <td>3.182052</td>\n",
       "      <td>0.661365</td>\n",
       "      <td>22.689723</td>\n",
       "      <td>-2.817630</td>\n",
       "      <td>-6.645401</td>\n",
       "      <td>-0.650222</td>\n",
       "      <td>-10.113253</td>\n",
       "    </tr>\n",
       "    <tr>\n",
       "      <th>12</th>\n",
       "      <td>3.471329</td>\n",
       "      <td>0.636968</td>\n",
       "      <td>23.243728</td>\n",
       "      <td>-3.741439</td>\n",
       "      <td>-8.824210</td>\n",
       "      <td>-0.863409</td>\n",
       "      <td>-13.429058</td>\n",
       "    </tr>\n",
       "    <tr>\n",
       "      <th>13</th>\n",
       "      <td>3.760606</td>\n",
       "      <td>0.613471</td>\n",
       "      <td>23.777296</td>\n",
       "      <td>-4.631169</td>\n",
       "      <td>-10.922646</td>\n",
       "      <td>-1.068731</td>\n",
       "      <td>-16.622547</td>\n",
       "    </tr>\n",
       "    <tr>\n",
       "      <th>14</th>\n",
       "      <td>4.049884</td>\n",
       "      <td>0.590841</td>\n",
       "      <td>24.291182</td>\n",
       "      <td>-5.488079</td>\n",
       "      <td>-12.943673</td>\n",
       "      <td>-1.266480</td>\n",
       "      <td>-19.698232</td>\n",
       "    </tr>\n",
       "    <tr>\n",
       "      <th>15</th>\n",
       "      <td>4.339161</td>\n",
       "      <td>0.569046</td>\n",
       "      <td>24.786111</td>\n",
       "      <td>-6.313378</td>\n",
       "      <td>-14.890148</td>\n",
       "      <td>-1.456933</td>\n",
       "      <td>-22.660459</td>\n",
       "    </tr>\n",
       "    <tr>\n",
       "      <th>16</th>\n",
       "      <td>4.628439</td>\n",
       "      <td>0.548054</td>\n",
       "      <td>25.262783</td>\n",
       "      <td>-7.108233</td>\n",
       "      <td>-16.764819</td>\n",
       "      <td>-1.640361</td>\n",
       "      <td>-25.513414</td>\n",
       "    </tr>\n",
       "    <tr>\n",
       "      <th>17</th>\n",
       "      <td>4.917716</td>\n",
       "      <td>0.527837</td>\n",
       "      <td>25.721871</td>\n",
       "      <td>-7.873767</td>\n",
       "      <td>-18.570337</td>\n",
       "      <td>-1.817023</td>\n",
       "      <td>-28.261127</td>\n",
       "    </tr>\n",
       "    <tr>\n",
       "      <th>18</th>\n",
       "      <td>5.206993</td>\n",
       "      <td>0.508366</td>\n",
       "      <td>26.164024</td>\n",
       "      <td>-8.611061</td>\n",
       "      <td>-20.309251</td>\n",
       "      <td>-1.987168</td>\n",
       "      <td>-30.907480</td>\n",
       "    </tr>\n",
       "    <tr>\n",
       "      <th>19</th>\n",
       "      <td>5.496271</td>\n",
       "      <td>0.489613</td>\n",
       "      <td>26.589866</td>\n",
       "      <td>-9.321158</td>\n",
       "      <td>-21.984019</td>\n",
       "      <td>-2.151036</td>\n",
       "      <td>-33.456213</td>\n",
       "    </tr>\n",
       "    <tr>\n",
       "      <th>20</th>\n",
       "      <td>5.785548</td>\n",
       "      <td>0.471552</td>\n",
       "      <td>27.000000</td>\n",
       "      <td>-10.005060</td>\n",
       "      <td>-23.597006</td>\n",
       "      <td>-2.308860</td>\n",
       "      <td>-35.910926</td>\n",
       "    </tr>\n",
       "  </tbody>\n",
       "</table>\n",
       "</div>"
      ],
      "text/plain": [
       "        time     Theta       T(C)   Qtop (W)  Qside (W)  Qfloor (W)   Qnet (W)\n",
       "0   0.000000  1.000000  15.000000  10.005060  23.597006    2.308860  35.910926\n",
       "1   0.289277  0.963111  15.837669   8.608239  20.302594    1.986517  30.897350\n",
       "2   0.578555  0.927583  16.644437   7.262945  17.129708    1.676064  26.068718\n",
       "3   0.867832  0.893366  17.421445   5.967277  14.073866    1.377064  21.418207\n",
       "4   1.157110  0.860411  18.169789   4.719405  11.130750    1.089093  16.939248\n",
       "5   1.446387  0.828672  18.890529   3.517565   8.296202    0.811746  12.625512\n",
       "6   1.735664  0.798103  19.584681   2.360059   5.566216    0.544629   8.470904\n",
       "7   2.024942  0.768662  20.253227   1.245252   2.936936    0.287366   4.469554\n",
       "8   2.314219  0.740307  20.897111   0.171569   0.404647    0.039593   0.615808\n",
       "9   2.603497  0.712998  21.517243  -0.862507  -2.034230   -0.199040  -3.095777\n",
       "10  2.892774  0.686696  22.114499  -1.858438  -4.383139   -0.428870  -6.670448\n",
       "11  3.182052  0.661365  22.689723  -2.817630  -6.645401   -0.650222 -10.113253\n",
       "12  3.471329  0.636968  23.243728  -3.741439  -8.824210   -0.863409 -13.429058\n",
       "13  3.760606  0.613471  23.777296  -4.631169 -10.922646   -1.068731 -16.622547\n",
       "14  4.049884  0.590841  24.291182  -5.488079 -12.943673   -1.266480 -19.698232\n",
       "15  4.339161  0.569046  24.786111  -6.313378 -14.890148   -1.456933 -22.660459\n",
       "16  4.628439  0.548054  25.262783  -7.108233 -16.764819   -1.640361 -25.513414\n",
       "17  4.917716  0.527837  25.721871  -7.873767 -18.570337   -1.817023 -28.261127\n",
       "18  5.206993  0.508366  26.164024  -8.611061 -20.309251   -1.987168 -30.907480\n",
       "19  5.496271  0.489613  26.589866  -9.321158 -21.984019   -2.151036 -33.456213\n",
       "20  5.785548  0.471552  27.000000 -10.005060 -23.597006   -2.308860 -35.910926"
      ]
     },
     "metadata": {},
     "output_type": "display_data"
    }
   ],
   "source": [
    "import pandas as pd\n",
    "import numpy as np\n",
    "\n",
    "df = pd.DataFrame(0, index=range(0, 21), columns=[f'Column_{i+1}' for i in range(7)])\n",
    "df = df.rename(columns={'Column_1': 'time', 'Column_2': 'Theta', 'Column_4': 'Qtop (W)',\n",
    "                        'Column_5': 'Qside (W)', 'Column_6': 'Qfloor (W)', 'Column_7': 'Qnet (W)', 'Column_3': 'T(C)'})\n",
    "\n",
    "dt = time_to_target_hours / 20  #hours\n",
    "df['time'] = np.arange(0, time_to_target_hours + dt, dt)\n",
    "df['Theta'] = np.exp(-df['time'] / tau_hour)\n",
    "df['T(C)'] = T_ss + (T_initial - T_ss) * df['Theta']\n",
    "df['Qtop (W)'] = (T_inf - df['T(C)']) / R_surface\n",
    "df['Qside (W)'] = (T_inf - df['T(C)']) / R_side\n",
    "df['Qfloor (W)'] = (T_inf - df['T(C)']) / R_floor\n",
    "df['Qnet (W)'] = df['Qtop (W)'] + df['Qside (W)'] + df['Qfloor (W)']\n",
    "\n",
    "display(df)\n"
   ]
  },
  {
   "cell_type": "code",
   "execution_count": 22,
   "metadata": {},
   "outputs": [
    {
     "data": {
      "image/png": "[encoded data removed]",
      "text/plain": [
       "<Figure size 640x480 with 1 Axes>"
      ]
     },
     "metadata": {},
     "output_type": "display_data"
    }
   ],
   "source": [
    "plt.plot(df['time'], df['Theta'], label='Dimensionless temperature')\n",
    "plt.xlabel('Time')\n",
    "plt.ylabel('Theta')\n",
    "plt.title('Time vs Dimensionless Temperature')\n",
    "plt.legend()\n",
    "plt.show()"
   ]
  },
  {
   "cell_type": "code",
   "execution_count": 23,
   "metadata": {},
   "outputs": [
    {
     "data": {
      "image/png": "[encoded data removed]",
      "text/plain": [
       "<Figure size 1000x800 with 1 Axes>"
      ]
     },
     "metadata": {},
     "output_type": "display_data"
    }
   ],
   "source": [
    "import matplotlib.pyplot as plt\n",
    "\n",
    "fig, ax = plt.subplots(figsize=(10, 8))\n",
    "\n",
    "ax.plot(df['time'], df['Qtop (W)'], label='Qtop (W)')\n",
    "ax.plot(df['time'], df['Qside (W)'], label='Qside (W)', color='orange')\n",
    "ax.plot(df['time'], df['Qfloor (W)'], label='Qfloor (W)', color='green')\n",
    "ax.plot(df['time'], df['Qnet (W)'], label='Qnet (W)', color='red')\n",
    "\n",
    "ax.set_xlabel('Time')\n",
    "ax.set_ylabel('Heat Flux (W)')\n",
    "ax.set_title('Time vs Heat Flux')\n",
    "ax.legend()\n",
    "\n",
    "plt.tight_layout()\n",
    "plt.show()\n"
   ]
  }
 ],
 "metadata": {
  "kernelspec": {
   "display_name": "Python 3",
   "language": "python",
   "name": "python3"
  },
  "language_info": {
   "codemirror_mode": {
    "name": "ipython",
    "version": 3
   },
   "file_extension": ".py",
   "mimetype": "text/x-python",
   "name": "python",
   "nbconvert_exporter": "python",
   "pygments_lexer": "ipython3",
   "version": "3.11.2"
  }
 },
 "nbformat": 4,
 "nbformat_minor": 2
}
